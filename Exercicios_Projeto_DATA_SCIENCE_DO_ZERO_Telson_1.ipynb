{
  "nbformat": 4,
  "nbformat_minor": 0,
  "metadata": {
    "colab": {
      "name": "Exercicios Projeto DATA SCIENCE DO ZERO - Telson.ipynb",
      "provenance": [],
      "authorship_tag": "ABX9TyMLVBZ7QivLmcUVfKIv1SB/",
      "include_colab_link": true
    },
    "kernelspec": {
      "name": "python3",
      "display_name": "Python 3"
    }
  },
  "cells": [
    {
      "cell_type": "markdown",
      "metadata": {
        "id": "view-in-github",
        "colab_type": "text"
      },
      "source": [
        "<a href=\"https://colab.research.google.com/github/Telurt/datasciencedozero/blob/master/Exercicios_Projeto_DATA_SCIENCE_DO_ZERO_Telson_1.ipynb\" target=\"_parent\"><img src=\"https://colab.research.google.com/assets/colab-badge.svg\" alt=\"Open In Colab\"/></a>"
      ]
    },
    {
      "cell_type": "markdown",
      "metadata": {
        "id": "IBEObWHMVd8r",
        "colab_type": "text"
      },
      "source": [
        "Exercício 1 - Peso Ideal"
      ]
    },
    {
      "cell_type": "code",
      "metadata": {
        "id": "lj3pzrDcNQcp",
        "colab_type": "code",
        "colab": {
          "base_uri": "https://localhost:8080/",
          "height": 69
        },
        "outputId": "cb3693f1-cdcb-4038-cdf5-5b3814b14231"
      },
      "source": [
        "altura = float(input(\"Coloque sua altura\\n\"))\n",
        "pesoIdeal = (72.2*altura)-58\n",
        "print(pesoIdeal)"
      ],
      "execution_count": 7,
      "outputs": [
        {
          "output_type": "stream",
          "text": [
            "Coloque sua altura\n",
            "1.95\n",
            "82.78999999999999\n"
          ],
          "name": "stdout"
        }
      ]
    },
    {
      "cell_type": "markdown",
      "metadata": {
        "id": "w-uPZd9SVcb7",
        "colab_type": "text"
      },
      "source": [
        "Exercício 2 - Condicional\n"
      ]
    },
    {
      "cell_type": "code",
      "metadata": {
        "id": "VP1hohFDOjmH",
        "colab_type": "code",
        "colab": {
          "base_uri": "https://localhost:8080/",
          "height": 69
        },
        "outputId": "3a2c486b-7b12-4430-8c3a-ab66738e6a74"
      },
      "source": [
        "turno = input(\"Em qual turno vocêê estuda)?\\n\")\n",
        "if (turno == \"Matutino\"):\n",
        "    print(\"Bom dia\")\n",
        "elif (turno == \"Vespertino\"):\n",
        "    print(\"Boa tarde\")\n",
        "else :\n",
        "    print(\"Boa noite\")"
      ],
      "execution_count": 15,
      "outputs": [
        {
          "output_type": "stream",
          "text": [
            "Em qual turno vocêê estuda)?\n",
            "Matutino\n",
            "Bom dia\n"
          ],
          "name": "stdout"
        }
      ]
    },
    {
      "cell_type": "markdown",
      "metadata": {
        "id": "fI7TfyksVzO-",
        "colab_type": "text"
      },
      "source": [
        "Exercíício 3 - Fibonacci"
      ]
    },
    {
      "cell_type": "code",
      "metadata": {
        "id": "ku9RRyvpOWnw",
        "colab_type": "code",
        "colab": {
          "base_uri": "https://localhost:8080/",
          "height": 208
        },
        "outputId": "a87ae6bf-5ea7-412d-9a6e-647dda71588c"
      },
      "source": [
        "\n",
        "stop = int(input(\"Qual número você deseja receber a sequência de Fibonacci?\\n\"))\n",
        "ant = 0\n",
        "prox = 0\n",
        "while (prox<stop):\n",
        "  prox = prox + ant\n",
        "  ant = prox - ant\n",
        "  if prox == 0:\n",
        "   prox = prox+1\n",
        "  print (prox)"
      ],
      "execution_count": 24,
      "outputs": [
        {
          "output_type": "stream",
          "text": [
            "Qual número você deseja receber a sequência de Fibonacci?\n",
            "34\n",
            "1\n",
            "1\n",
            "2\n",
            "3\n",
            "5\n",
            "8\n",
            "13\n",
            "21\n",
            "34\n"
          ],
          "name": "stdout"
        }
      ]
    },
    {
      "cell_type": "code",
      "metadata": {
        "id": "tnkHnS57TPWP",
        "colab_type": "code",
        "colab": {}
      },
      "source": [
        ""
      ],
      "execution_count": 0,
      "outputs": []
    },
    {
      "cell_type": "markdown",
      "metadata": {
        "id": "tbFKnCfHYLav",
        "colab_type": "text"
      },
      "source": [
        "Exercício 4 - Ler String"
      ]
    },
    {
      "cell_type": "code",
      "metadata": {
        "id": "3enQhxCfZmaH",
        "colab_type": "code",
        "colab": {
          "base_uri": "https://localhost:8080/",
          "height": 69
        },
        "outputId": "484a36ff-bbe9-4ae4-d4b3-0ecca8af9556"
      },
      "source": [
        "def stringReverse(x):\n",
        "   return x[::-1]\n",
        "num = input(\"Qual número deseja ver em sua forma reversa?\\n\")\n",
        "stringReverse(num)       "
      ],
      "execution_count": 26,
      "outputs": [
        {
          "output_type": "stream",
          "text": [
            "Qual número deseja ver em sua forma reversa?\n",
            "456\n"
          ],
          "name": "stdout"
        },
        {
          "output_type": "execute_result",
          "data": {
            "text/plain": [
              "'654'"
            ]
          },
          "metadata": {
            "tags": []
          },
          "execution_count": 26
        }
      ]
    },
    {
      "cell_type": "code",
      "metadata": {
        "id": "oDvDr-RCZrJS",
        "colab_type": "code",
        "colab": {}
      },
      "source": [
        ""
      ],
      "execution_count": 0,
      "outputs": []
    },
    {
      "cell_type": "code",
      "metadata": {
        "id": "kmxWr53mb-sy",
        "colab_type": "code",
        "colab": {}
      },
      "source": [
        ""
      ],
      "execution_count": 0,
      "outputs": []
    }
  ]
}